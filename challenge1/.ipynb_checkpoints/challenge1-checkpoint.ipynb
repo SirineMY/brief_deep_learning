{
 "cells": [
  {
   "cell_type": "code",
   "execution_count": 45,
   "id": "e364649e-7415-4ff2-b979-79bc8337971b",
   "metadata": {},
   "outputs": [],
   "source": [
    "import math as math "
   ]
  },
  {
   "cell_type": "code",
   "execution_count": 46,
   "id": "98d6c4ce-63ec-4480-b427-ce2b998bdb90",
   "metadata": {},
   "outputs": [],
   "source": [
    "x1=1\n",
    "x2=-3.1\n",
    "x3=-7.2\n",
    "x4=2.1\n",
    "X = [x1, x2, x3, x4]\n",
    "\n",
    "w1=2.1\n",
    "w2=1.2\n",
    "w3=0.3\n",
    "w4=1.3\n",
    "W = [w1, w2, w3, w4]\n",
    "\n",
    "b= -3\n"
   ]
  },
  {
   "cell_type": "code",
   "execution_count": 47,
   "id": "bb7aee48-5cf5-45c4-9c19-ff36ea5833b5",
   "metadata": {},
   "outputs": [],
   "source": [
    "def lin_reg1(X, W, b):\n",
    "    a=0\n",
    "    for i in range(len(X)):\n",
    "        a+= X[i]*W[i]\n",
    "    c=a+b\n",
    "    return c\n",
    "        \n",
    "            "
   ]
  },
  {
   "cell_type": "code",
   "execution_count": 48,
   "id": "aa3562e5-35f9-4dc5-ab2c-0a196ce247cf",
   "metadata": {},
   "outputs": [],
   "source": [
    "def activation(x):\n",
    "    if x >0:\n",
    "        Relu = x\n",
    "    elif x<0:\n",
    "        Relu = 0\n",
    "    return Relu\n"
   ]
  },
  {
   "cell_type": "code",
   "execution_count": 49,
   "id": "89a78d64-4c94-4112-8444-9486a138b1cb",
   "metadata": {},
   "outputs": [
    {
     "data": {
      "text/plain": [
       "0"
      ]
     },
     "execution_count": 49,
     "metadata": {},
     "output_type": "execute_result"
    }
   ],
   "source": [
    "out_1= activation(lin_reg1(X, W, b))\n",
    "out_1"
   ]
  },
  {
   "cell_type": "code",
   "execution_count": 50,
   "id": "b0161476-c2fb-4776-8abe-233b6b361868",
   "metadata": {},
   "outputs": [],
   "source": [
    "W2 = [0.1, 1.2, 4.9, 3.1]\n",
    "b2 = -5\n",
    "out_2= activation(lin_reg1(X, W2, b2))"
   ]
  },
  {
   "cell_type": "code",
   "execution_count": 51,
   "id": "6605c514-3c86-4a0c-bffb-3ffc3e33ec3d",
   "metadata": {},
   "outputs": [
    {
     "data": {
      "text/plain": [
       "0"
      ]
     },
     "execution_count": 51,
     "metadata": {},
     "output_type": "execute_result"
    }
   ],
   "source": [
    "out_2"
   ]
  },
  {
   "cell_type": "code",
   "execution_count": 52,
   "id": "06062057-0b13-461f-8344-6e896e8ed83f",
   "metadata": {},
   "outputs": [],
   "source": [
    "W3 = [0.4, 2.6, 2.5, 3.8]\n",
    "b3 = -8\n",
    "out_3= activation(lin_reg1(X, W3, b3))"
   ]
  },
  {
   "cell_type": "code",
   "execution_count": 53,
   "id": "b9ac719d-a685-429e-999e-b51fde8d0bb9",
   "metadata": {},
   "outputs": [],
   "source": [
    "out=[out_1, out_2, out_3]\n",
    "W_next= [1.1, -4.1, 0.7]\n",
    "b_next= 5.1"
   ]
  },
  {
   "cell_type": "code",
   "execution_count": 54,
   "id": "4af00209-8364-49be-b09f-341c568dc646",
   "metadata": {},
   "outputs": [
    {
     "data": {
      "text/plain": [
       "5.1"
      ]
     },
     "execution_count": 54,
     "metadata": {},
     "output_type": "execute_result"
    }
   ],
   "source": [
    "next= lin_reg1(out, W_next, b_next)\n",
    "next"
   ]
  },
  {
   "cell_type": "code",
   "execution_count": 55,
   "id": "f0e0bbcc-536f-464e-8558-888c940f3658",
   "metadata": {},
   "outputs": [],
   "source": [
    "def activation_next_layer(x):\n",
    "    y= x*-1\n",
    "    z= math.exp(y) + 1\n",
    "    a= 1/z\n",
    "    return a"
   ]
  },
  {
   "cell_type": "code",
   "execution_count": 56,
   "id": "4f2eb4d8-7832-413b-a7dc-8a7b3a717615",
   "metadata": {},
   "outputs": [],
   "source": [
    "y_pred= activation_next_layer(lin_reg1(out, W_next, b_next))"
   ]
  },
  {
   "cell_type": "code",
   "execution_count": 57,
   "id": "83680749-3086-4d97-86f9-59bca5da28c8",
   "metadata": {},
   "outputs": [
    {
     "data": {
      "text/plain": [
       "0.9939401985084158"
      ]
     },
     "execution_count": 57,
     "metadata": {},
     "output_type": "execute_result"
    }
   ],
   "source": [
    "y_pred"
   ]
  },
  {
   "cell_type": "code",
   "execution_count": null,
   "id": "ec627c2f-2776-41c6-8126-27e8aeae1304",
   "metadata": {},
   "outputs": [],
   "source": []
  }
 ],
 "metadata": {
  "kernelspec": {
   "display_name": "Python 3 (ipykernel)",
   "language": "python",
   "name": "python3"
  },
  "language_info": {
   "codemirror_mode": {
    "name": "ipython",
    "version": 3
   },
   "file_extension": ".py",
   "mimetype": "text/x-python",
   "name": "python",
   "nbconvert_exporter": "python",
   "pygments_lexer": "ipython3",
   "version": "3.9.12"
  }
 },
 "nbformat": 4,
 "nbformat_minor": 5
}
